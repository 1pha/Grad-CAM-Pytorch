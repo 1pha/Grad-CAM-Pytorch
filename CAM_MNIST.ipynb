{
 "cells": [
  {
   "cell_type": "markdown",
   "metadata": {},
   "source": [
    "# CAM_MNIST\n",
    "\n",
    "- How to register a hook at targeted layer of network\n",
    "- http://pytorch.org/docs/0.3.1/autograd.html?highlight=register_hook#torch.autograd.Variable.register_hook\n",
    "\n",
    "## 1) Import required Libraries"
   ]
  },
  {
   "cell_type": "code",
   "execution_count": 1,
   "metadata": {
    "collapsed": true
   },
   "outputs": [],
   "source": [
    "import os\n",
    "\n",
    "os.environ[\"CUDA_VISIBLE_DEVICES\"]=\"0\"\n",
    "\n",
    "import numpy as np\n",
    "import torch\n",
    "import torch.nn as nn\n",
    "import torch.optim as optim\n",
    "import torch.nn.init as init\n",
    "import torchvision.datasets as dset\n",
    "import torchvision.transforms as transforms\n",
    "from torch.utils.data import DataLoader\n",
    "from torch.autograd import Variable\n",
    "\n",
    "import torch.nn.functional as F\n",
    "from skimage.transform import resize\n",
    "import matplotlib.pyplot as plt\n",
    "%matplotlib inline  \n",
    "\n",
    "import random"
   ]
  },
  {
   "cell_type": "markdown",
   "metadata": {},
   "source": [
    "## 2) Hyperparameters"
   ]
  },
  {
   "cell_type": "code",
   "execution_count": 2,
   "metadata": {
    "collapsed": true
   },
   "outputs": [],
   "source": [
    "batch_size = 256\n",
    "learning_rate = 0.0001\n",
    "num_epoch = 10"
   ]
  },
  {
   "cell_type": "code",
   "execution_count": 3,
   "metadata": {
    "collapsed": true
   },
   "outputs": [],
   "source": [
    "def one_sided_padding(x):\n",
    "    rand1 = random.randrange(0,15,3)\n",
    "    rand2 = random.randrange(0,15,3)\n",
    "\n",
    "    zero = np.zeros(shape=[28,28,1])\n",
    "    zero[rand1:rand1+12,rand2:rand2+12,:]=np.asarray(x).reshape(12,12,1)\n",
    "    return zero"
   ]
  },
  {
   "cell_type": "markdown",
   "metadata": {},
   "source": [
    "## 3) Dataloader"
   ]
  },
  {
   "cell_type": "code",
   "execution_count": 4,
   "metadata": {
    "collapsed": true
   },
   "outputs": [],
   "source": [
    "mnist_train = dset.MNIST(\"./\", train=True, \n",
    "                         transform=transforms.Compose([\n",
    "                            transforms.RandomCrop(22),\n",
    "                            transforms.Resize(12),\n",
    "                            transforms.Lambda(one_sided_padding),\n",
    "                            transforms.ToTensor(),\n",
    "                         ]), \n",
    "                         target_transform=None, \n",
    "                         download=True)\n",
    "\n",
    "mnist_test = dset.MNIST(\"./\", train=False,\n",
    "                        transform=transforms.Compose([\n",
    "                            transforms.RandomCrop(22),\n",
    "                            transforms.Resize(12),\n",
    "                            transforms.Lambda(one_sided_padding),\n",
    "                            transforms.ToTensor(),\n",
    "                        ]),\n",
    "                        target_transform=None, \n",
    "                        download=True)\n",
    "\n",
    "train_loader = torch.utils.data.DataLoader(mnist_train,batch_size=batch_size, shuffle=True,num_workers=2,drop_last=True)\n",
    "test_loader = torch.utils.data.DataLoader(mnist_test,batch_size=batch_size, shuffle=True,num_workers=2,drop_last=True)"
   ]
  },
  {
   "cell_type": "markdown",
   "metadata": {},
   "source": [
    "## 4) Classification Model"
   ]
  },
  {
   "cell_type": "code",
   "execution_count": 5,
   "metadata": {
    "collapsed": true
   },
   "outputs": [],
   "source": [
    "class CNN(nn.Module):\n",
    "    def __init__(self,num_feature=32):\n",
    "        super(CNN,self).__init__()\n",
    "        self.num_feature=num_feature\n",
    "        \n",
    "        self.layer = nn.Sequential(\n",
    "            nn.Conv2d(1,self.num_feature,3,1,1),\n",
    "            nn.BatchNorm2d(self.num_feature),\n",
    "            nn.ReLU(),\n",
    "            nn.Conv2d(self.num_feature,self.num_feature*2,3,1,1),\n",
    "            nn.BatchNorm2d(self.num_feature*2),\n",
    "            nn.ReLU(),\n",
    "            nn.AvgPool2d(2,2),\n",
    "            \n",
    "            nn.Conv2d(self.num_feature*2,self.num_feature*4,3,1,1),\n",
    "            nn.BatchNorm2d(self.num_feature*4),\n",
    "            nn.ReLU(),\n",
    "            nn.AvgPool2d(2,2),\n",
    "            \n",
    "            nn.Conv2d(self.num_feature*4,self.num_feature*8,3,1,1),\n",
    "            nn.BatchNorm2d(self.num_feature*8),\n",
    "            nn.ReLU(),\n",
    "        )\n",
    "        self.fc_layer = nn.Sequential(\n",
    "            nn.Linear(self.num_feature*8*7*7,1000),\n",
    "            nn.ReLU(),\n",
    "            nn.Linear(1000,10)\n",
    "        )       \n",
    "        \n",
    "        for m in self.modules():\n",
    "            if isinstance(m, nn.Conv2d):\n",
    "                \n",
    "                # Kaming Initialization\n",
    "                init.kaiming_normal(m.weight.data)\n",
    "                m.bias.data.fill_(0)\n",
    "                \n",
    "            elif isinstance(m, nn.Linear):\n",
    "\n",
    "                # Kaming Initialization\n",
    "                init.kaiming_normal(m.weight.data)\n",
    "                m.bias.data.fill_(0)\n",
    "        \n",
    "        \n",
    "    def forward(self,x):\n",
    "        out = self.layer(x)\n",
    "        out = out.view(x.size()[0],-1)\n",
    "        out = self.fc_layer(out)\n",
    "\n",
    "        return out\n",
    "\n",
    "model = nn.DataParallel(CNN().cuda())"
   ]
  },
  {
   "cell_type": "markdown",
   "metadata": {},
   "source": [
    "## 5) Loss & Optimizer"
   ]
  },
  {
   "cell_type": "code",
   "execution_count": 6,
   "metadata": {
    "collapsed": true
   },
   "outputs": [],
   "source": [
    "loss_func = nn.CrossEntropyLoss()\n",
    "optimizer = torch.optim.Adam(model.parameters(), lr=learning_rate)"
   ]
  },
  {
   "cell_type": "markdown",
   "metadata": {},
   "source": [
    "## 6) Train"
   ]
  },
  {
   "cell_type": "code",
   "execution_count": 7,
   "metadata": {
    "scrolled": true
   },
   "outputs": [
    {
     "name": "stdout",
     "output_type": "stream",
     "text": [
      "Test Data Accuracy: [93.51963]%\n",
      "Test Data Accuracy: [95.86338]%\n",
      "Test Data Accuracy: [96.30409]%\n",
      "Test Data Accuracy: [96.73477]%\n",
      "Test Data Accuracy: [96.955124]%\n",
      "Test Data Accuracy: [97.3758]%\n",
      "Test Data Accuracy: [95.50281]%\n",
      "Test Data Accuracy: [97.47597]%\n",
      "Test Data Accuracy: [97.50601]%\n",
      "Test Data Accuracy: [97.94672]%\n"
     ]
    }
   ],
   "source": [
    "for i in range(num_epoch):\n",
    "    model.train()\n",
    "    for j,[image,label] in enumerate(train_loader):\n",
    "        x = Variable(image).cuda()\n",
    "        y_= Variable(label).cuda()\n",
    "        \n",
    "        optimizer.zero_grad()\n",
    "        output = model.forward(x)\n",
    "        loss = loss_func(output,y_)\n",
    "        loss.backward()\n",
    "        optimizer.step()\n",
    "        \n",
    "         \n",
    "    top_1_count = torch.FloatTensor([0])\n",
    "    total = torch.FloatTensor([0])\n",
    "    model.eval() \n",
    "    for image,label in test_loader:\n",
    "        x = Variable(image,volatile=True).cuda()\n",
    "        y_= Variable(label).cuda()\n",
    "\n",
    "        output = model.forward(x)\n",
    "        \n",
    "        values,idx = output.max(dim=1)\n",
    "        top_1_count += torch.sum(y_==idx).float().cpu().data\n",
    "\n",
    "        total += label.size(0)\n",
    "\n",
    "    print(\"Test Data Accuracy: {}%\".format(100*(top_1_count/total).numpy()))\n",
    "    if (top_1_count/total).numpy() > 0.98:\n",
    "        break\n"
   ]
  },
  {
   "cell_type": "markdown",
   "metadata": {},
   "source": [
    "## 7) CAM "
   ]
  },
  {
   "cell_type": "code",
   "execution_count": 8,
   "metadata": {},
   "outputs": [],
   "source": [
    "class CAM():\n",
    "    def __init__(self,model):\n",
    "        self.gradient = []\n",
    "        self.h = model.module.layer[-1].register_backward_hook(self.save_gradient)\n",
    "        \n",
    "    def save_gradient(self,*args):\n",
    "        grad_input = args[1]\n",
    "        grad_output= args[2]\n",
    "        self.gradient.append(grad_output[0])\n",
    "      \n",
    "    def get_gradient(self,idx):\n",
    "        return self.gradient[idx]\n",
    "    \n",
    "    def remove_hook(self):\n",
    "        self.h.remove()\n",
    "            \n",
    "    def normalize_cam(self,x):\n",
    "        x = 2*(x-torch.min(x))/(torch.max(x)-torch.min(x)+1e-8)-1\n",
    "        x[x<torch.max(x)]=-1\n",
    "        return x\n",
    "    \n",
    "    def visualize(self,cam_img,img_var):\n",
    "        cam_img = resize(cam_img.cpu().data.numpy(),output_shape=(28,28))\n",
    "        x = img_var[0,:,:].cpu().data.numpy()\n",
    "\n",
    "        plt.subplot(1,3,1)\n",
    "        plt.imshow(cam_img)\n",
    "\n",
    "        plt.subplot(1,3,2)\n",
    "        plt.imshow(x,cmap=\"gray\")\n",
    "\n",
    "        plt.subplot(1,3,3)\n",
    "        plt.imshow(x+cam_img)\n",
    "        plt.show()\n",
    "    \n",
    "    def get_cam(self,idx):\n",
    "        grad = self.get_gradient(idx)\n",
    "        alpha = torch.sum(grad,dim=3,keepdim=True)\n",
    "        alpha = torch.sum(alpha,dim=2,keepdim=True)\n",
    "        \n",
    "        cam = alpha[j]*grad[j]\n",
    "        cam = torch.sum(cam,dim=0)\n",
    "        cam = self.normalize_cam(cam)\n",
    "        \n",
    "        self.remove_hook()\n",
    "        return cam\n",
    "   "
   ]
  },
  {
   "cell_type": "markdown",
   "metadata": {},
   "source": [
    "## 8) Calculate & Visualize"
   ]
  },
  {
   "cell_type": "code",
   "execution_count": 9,
   "metadata": {
    "scrolled": false
   },
   "outputs": [
    {
     "name": "stderr",
     "output_type": "stream",
     "text": [
      "/home/ubuntu/anaconda3/envs/pytorch/lib/python3.6/site-packages/skimage/transform/_warps.py:84: UserWarning: The default mode, 'constant', will be changed to 'reflect' in skimage 0.15.\n",
      "  warn(\"The default mode, 'constant', will be changed to 'reflect' in \"\n"
     ]
    },
    {
     "data": {
      "image/png": "[encoded data removed]",
      "text/plain": [
       "<matplotlib.figure.Figure at 0x7fd6ce70c5c0>"
      ]
     },
     "metadata": {},
     "output_type": "display_data"
    },
    {
     "data": {
      "image/png": "[encoded data removed]",
      "text/plain": [
       "<matplotlib.figure.Figure at 0x7fd78c96e518>"
      ]
     },
     "metadata": {},
     "output_type": "display_data"
    },
    {
     "data": {
      "image/png": "[encoded data removed]",
      "text/plain": [
       "<matplotlib.figure.Figure at 0x7fd78c28e940>"
      ]
     },
     "metadata": {},
     "output_type": "display_data"
    },
    {
     "data": {
      "image/png": "[encoded data removed]",
      "text/plain": [
       "<matplotlib.figure.Figure at 0x7fd7760ad940>"
      ]
     },
     "metadata": {},
     "output_type": "display_data"
    },
    {
     "data": {
      "image/png": "[encoded data removed]",
      "text/plain": [
       "<matplotlib.figure.Figure at 0x7fd75f017518>"
      ]
     },
     "metadata": {},
     "output_type": "display_data"
    },
    {
     "data": {
      "image/png": "[encoded data removed]",
      "text/plain": [
       "<matplotlib.figure.Figure at 0x7fd6ce7436d8>"
      ]
     },
     "metadata": {},
     "output_type": "display_data"
    },
    {
     "data": {
      "image/png": "[encoded data removed]",
      "text/plain": [
       "<matplotlib.figure.Figure at 0x7fd6702f7390>"
      ]
     },
     "metadata": {},
     "output_type": "display_data"
    },
    {
     "data": {
      "image/png": "[encoded data removed]",
      "text/plain": [
       "<matplotlib.figure.Figure at 0x7fd6700dc630>"
      ]
     },
     "metadata": {},
     "output_type": "display_data"
    },
    {
     "data": {
      "image/png": "[encoded data removed]",
      "text/plain": [
       "<matplotlib.figure.Figure at 0x7fd670052358>"
      ]
     },
     "metadata": {},
     "output_type": "display_data"
    },
    {
     "data": {
      "image/png": "[encoded data removed]",
      "text/plain": [
       "<matplotlib.figure.Figure at 0x7fd6702a7470>"
      ]
     },
     "metadata": {},
     "output_type": "display_data"
    },
    {
     "data": {
      "image/png": "[encoded data removed]",
      "text/plain": [
       "<matplotlib.figure.Figure at 0x7fd670094c50>"
      ]
     },
     "metadata": {},
     "output_type": "display_data"
    },
    {
     "data": {
      "image/png": "[encoded data removed]",
      "text/plain": [
       "<matplotlib.figure.Figure at 0x7fd6702d7f60>"
      ]
     },
     "metadata": {},
     "output_type": "display_data"
    },
    {
     "data": {
      "image/png": "[encoded data removed]",
      "text/plain": [
       "<matplotlib.figure.Figure at 0x7fd6700f0630>"
      ]
     },
     "metadata": {},
     "output_type": "display_data"
    },
    {
     "data": {
      "image/png": "[encoded data removed]",
      "text/plain": [
       "<matplotlib.figure.Figure at 0x7fd787850da0>"
      ]
     },
     "metadata": {},
     "output_type": "display_data"
    },
    {
     "data": {
      "image/png": "[encoded data removed]",
      "text/plain": [
       "<matplotlib.figure.Figure at 0x7fd6702ee898>"
      ]
     },
     "metadata": {},
     "output_type": "display_data"
    },
    {
     "data": {
      "image/png": "[encoded data removed]",
      "text/plain": [
       "<matplotlib.figure.Figure at 0x7fd6c40510f0>"
      ]
     },
     "metadata": {},
     "output_type": "display_data"
    },
    {
     "data": {
      "image/png": "[encoded data removed]",
      "text/plain": [
       "<matplotlib.figure.Figure at 0x7fd78c95a550>"
      ]
     },
     "metadata": {},
     "output_type": "display_data"
    },
    {
     "data": {
      "image/png": "[encoded data removed]",
      "text/plain": [
       "<matplotlib.figure.Figure at 0x7fd7760b5940>"
      ]
     },
     "metadata": {},
     "output_type": "display_data"
    },
    {
     "data": {
      "image/png": "[encoded data removed]",
      "text/plain": [
       "<matplotlib.figure.Figure at 0x7fd75f024d68>"
      ]
     },
     "metadata": {},
     "output_type": "display_data"
    },
    {
     "data": {
      "image/png": "[encoded data removed]",
      "text/plain": [
       "<matplotlib.figure.Figure at 0x7fd65624d438>"
      ]
     },
     "metadata": {},
     "output_type": "display_data"
    }
   ],
   "source": [
    "cam = CAM(model)\n",
    "\n",
    "for i,[image,label] in enumerate(test_loader):\n",
    "    x = Variable(image).cuda()\n",
    "    y_= Variable(label).cuda()\n",
    "        \n",
    "    output = model.forward(x)    \n",
    "    \n",
    "    for j in range(20):\n",
    "        model.zero_grad()\n",
    "        lab = y_[j].cpu().data[0]\n",
    "        output[j,lab].backward(retain_graph=True)\n",
    "\n",
    "        out = cam.get_cam(j)\n",
    "        cam.visualize(out,x[j])\n",
    "\n",
    "    break"
   ]
  }
 ],
 "metadata": {
  "kernelspec": {
   "display_name": "Python 3",
   "language": "python",
   "name": "python3"
  },
  "language_info": {
   "codemirror_mode": {
    "name": "ipython",
    "version": 3
   },
   "file_extension": ".py",
   "mimetype": "text/x-python",
   "name": "python",
   "nbconvert_exporter": "python",
   "pygments_lexer": "ipython3",
   "version": "3.6.3"
  }
 },
 "nbformat": 4,
 "nbformat_minor": 2
}
